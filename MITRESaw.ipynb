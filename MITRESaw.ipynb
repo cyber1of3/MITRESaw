{
 "cells": [
  {
   "attachments": {},
   "cell_type": "markdown",
   "id": "b91a79d4-8feb-4ada-82e3-1ea2d9bd294b",
   "metadata": {},
   "source": [
    "#### installing libraries"
   ]
  },
  {
   "cell_type": "code",
   "execution_count": 1,
   "id": "093dacc9-0305-45d5-aedf-c27a0cb5ca0f",
   "metadata": {
    "editable": true,
    "slideshow": {
     "slide_type": ""
    },
    "tags": []
   },
   "outputs": [
    {
     "name": "stdout",
     "output_type": "stream",
     "text": [
      "Requirement already satisfied: mitreattack-python in /Users/Ben/opt/anaconda3/lib/python3.9/site-packages (2.0.13)\n",
      "Requirement already satisfied: pandas in /Users/Ben/opt/anaconda3/lib/python3.9/site-packages (from mitreattack-python) (1.3.4)\n",
      "Requirement already satisfied: numpy in /Users/Ben/opt/anaconda3/lib/python3.9/site-packages (from mitreattack-python) (1.20.3)\n",
      "Requirement already satisfied: stix2 in /Users/Ben/opt/anaconda3/lib/python3.9/site-packages (from mitreattack-python) (3.0.1)\n",
      "Requirement already satisfied: typer in /Users/Ben/opt/anaconda3/lib/python3.9/site-packages (from mitreattack-python) (0.9.0)\n",
      "Requirement already satisfied: pooch in /Users/Ben/opt/anaconda3/lib/python3.9/site-packages (from mitreattack-python) (1.7.0)\n",
      "Requirement already satisfied: openpyxl in /Users/Ben/opt/anaconda3/lib/python3.9/site-packages (from mitreattack-python) (3.0.9)\n",
      "Requirement already satisfied: deepdiff in /Users/Ben/opt/anaconda3/lib/python3.9/site-packages (from mitreattack-python) (6.3.0)\n",
      "Requirement already satisfied: rich in /Users/Ben/opt/anaconda3/lib/python3.9/site-packages (from mitreattack-python) (13.4.2)\n",
      "Requirement already satisfied: Markdown in /Users/Ben/opt/anaconda3/lib/python3.9/site-packages (from mitreattack-python) (3.4.3)\n",
      "Requirement already satisfied: tabulate in /Users/Ben/opt/anaconda3/lib/python3.9/site-packages (from mitreattack-python) (0.9.0)\n",
      "Requirement already satisfied: Pillow in /Users/Ben/opt/anaconda3/lib/python3.9/site-packages (from mitreattack-python) (8.4.0)\n",
      "Requirement already satisfied: loguru in /Users/Ben/opt/anaconda3/lib/python3.9/site-packages (from mitreattack-python) (0.7.0)\n",
      "Requirement already satisfied: drawsvg>=2.0.0 in /Users/Ben/opt/anaconda3/lib/python3.9/site-packages (from mitreattack-python) (2.2.0)\n",
      "Requirement already satisfied: xlsxwriter in /Users/Ben/opt/anaconda3/lib/python3.9/site-packages (from mitreattack-python) (3.0.1)\n",
      "Requirement already satisfied: python-dateutil in /Users/Ben/opt/anaconda3/lib/python3.9/site-packages (from mitreattack-python) (2.8.2)\n",
      "Requirement already satisfied: colour in /Users/Ben/opt/anaconda3/lib/python3.9/site-packages (from mitreattack-python) (0.1.5)\n",
      "Requirement already satisfied: stix2-elevator in /Users/Ben/opt/anaconda3/lib/python3.9/site-packages (from mitreattack-python) (4.1.7)\n",
      "Requirement already satisfied: tqdm in /Users/Ben/opt/anaconda3/lib/python3.9/site-packages (from mitreattack-python) (4.62.3)\n",
      "Requirement already satisfied: requests in /Users/Ben/opt/anaconda3/lib/python3.9/site-packages (from mitreattack-python) (2.26.0)\n",
      "Requirement already satisfied: taxii2-client in /Users/Ben/opt/anaconda3/lib/python3.9/site-packages (from mitreattack-python) (2.3.0)\n",
      "Requirement already satisfied: ordered-set<4.2.0,>=4.0.2 in /Users/Ben/opt/anaconda3/lib/python3.9/site-packages (from deepdiff->mitreattack-python) (4.1.0)\n",
      "Requirement already satisfied: importlib-metadata>=4.4 in /Users/Ben/opt/anaconda3/lib/python3.9/site-packages (from Markdown->mitreattack-python) (4.8.1)\n",
      "Requirement already satisfied: zipp>=0.5 in /Users/Ben/opt/anaconda3/lib/python3.9/site-packages (from importlib-metadata>=4.4->Markdown->mitreattack-python) (3.6.0)\n",
      "Requirement already satisfied: et-xmlfile in /Users/Ben/opt/anaconda3/lib/python3.9/site-packages (from openpyxl->mitreattack-python) (1.1.0)\n",
      "Requirement already satisfied: pytz>=2017.3 in /Users/Ben/opt/anaconda3/lib/python3.9/site-packages (from pandas->mitreattack-python) (2021.3)\n",
      "Requirement already satisfied: six>=1.5 in /Users/Ben/opt/anaconda3/lib/python3.9/site-packages (from python-dateutil->mitreattack-python) (1.16.0)\n",
      "Requirement already satisfied: platformdirs>=2.5.0 in /Users/Ben/opt/anaconda3/lib/python3.9/site-packages (from pooch->mitreattack-python) (3.8.0)\n",
      "Requirement already satisfied: packaging>=20.0 in /Users/Ben/opt/anaconda3/lib/python3.9/site-packages (from pooch->mitreattack-python) (21.0)\n",
      "Requirement already satisfied: pyparsing>=2.0.2 in /Users/Ben/opt/anaconda3/lib/python3.9/site-packages (from packaging>=20.0->pooch->mitreattack-python) (3.0.4)\n",
      "Requirement already satisfied: idna<4,>=2.5 in /Users/Ben/opt/anaconda3/lib/python3.9/site-packages (from requests->mitreattack-python) (3.2)\n",
      "Requirement already satisfied: urllib3<1.27,>=1.21.1 in /Users/Ben/opt/anaconda3/lib/python3.9/site-packages (from requests->mitreattack-python) (1.26.7)\n",
      "Requirement already satisfied: charset-normalizer~=2.0.0 in /Users/Ben/opt/anaconda3/lib/python3.9/site-packages (from requests->mitreattack-python) (2.0.4)\n",
      "Requirement already satisfied: certifi>=2017.4.17 in /Users/Ben/opt/anaconda3/lib/python3.9/site-packages (from requests->mitreattack-python) (2021.10.8)\n",
      "Requirement already satisfied: markdown-it-py>=2.2.0 in /Users/Ben/opt/anaconda3/lib/python3.9/site-packages (from rich->mitreattack-python) (3.0.0)\n",
      "Requirement already satisfied: pygments<3.0.0,>=2.13.0 in /Users/Ben/opt/anaconda3/lib/python3.9/site-packages (from rich->mitreattack-python) (2.15.1)\n",
      "Requirement already satisfied: mdurl~=0.1 in /Users/Ben/opt/anaconda3/lib/python3.9/site-packages (from markdown-it-py>=2.2.0->rich->mitreattack-python) (0.1.2)\n",
      "Requirement already satisfied: simplejson in /Users/Ben/opt/anaconda3/lib/python3.9/site-packages (from stix2->mitreattack-python) (3.19.1)\n",
      "Requirement already satisfied: stix2-patterns>=1.2.0 in /Users/Ben/opt/anaconda3/lib/python3.9/site-packages (from stix2->mitreattack-python) (2.0.0)\n",
      "Requirement already satisfied: antlr4-python3-runtime~=4.9.0 in /Users/Ben/opt/anaconda3/lib/python3.9/site-packages (from stix2-patterns>=1.2.0->stix2->mitreattack-python) (4.9.3)\n",
      "Requirement already satisfied: pluralizer in /Users/Ben/opt/anaconda3/lib/python3.9/site-packages (from stix2-elevator->mitreattack-python) (1.2.0)\n",
      "Requirement already satisfied: pycountry>=20.7.0 in /Users/Ben/opt/anaconda3/lib/python3.9/site-packages (from stix2-elevator->mitreattack-python) (22.3.5)\n",
      "Requirement already satisfied: stixmarx>=1.0.8 in /Users/Ben/opt/anaconda3/lib/python3.9/site-packages (from stix2-elevator->mitreattack-python) (1.0.8)\n",
      "Requirement already satisfied: netaddr in /Users/Ben/opt/anaconda3/lib/python3.9/site-packages (from stix2-elevator->mitreattack-python) (0.8.0)\n",
      "Requirement already satisfied: stix2-validator>=3.0.0 in /Users/Ben/opt/anaconda3/lib/python3.9/site-packages (from stix2-elevator->mitreattack-python) (3.1.3)\n",
      "Requirement already satisfied: maec in /Users/Ben/opt/anaconda3/lib/python3.9/site-packages (from stix2-elevator->mitreattack-python) (4.1.0.17)\n",
      "Requirement already satisfied: stix<1.2.1.0,>=1.1.1.9 in /Users/Ben/opt/anaconda3/lib/python3.9/site-packages (from stix2-elevator->mitreattack-python) (1.2.0.11)\n",
      "Requirement already satisfied: setuptools in /Users/Ben/opt/anaconda3/lib/python3.9/site-packages (from pycountry>=20.7.0->stix2-elevator->mitreattack-python) (58.0.4)\n",
      "Requirement already satisfied: mixbox>=1.0.4 in /Users/Ben/opt/anaconda3/lib/python3.9/site-packages (from stix<1.2.1.0,>=1.1.1.9->stix2-elevator->mitreattack-python) (1.0.5)\n",
      "Requirement already satisfied: lxml>=2.2.3 in /Users/Ben/opt/anaconda3/lib/python3.9/site-packages (from stix<1.2.1.0,>=1.1.1.9->stix2-elevator->mitreattack-python) (4.6.3)\n",
      "Requirement already satisfied: cybox<2.1.1.0,>=2.1.0.13 in /Users/Ben/opt/anaconda3/lib/python3.9/site-packages (from stix<1.2.1.0,>=1.1.1.9->stix2-elevator->mitreattack-python) (2.1.0.21)\n",
      "Requirement already satisfied: weakrefmethod>=1.0.3 in /Users/Ben/opt/anaconda3/lib/python3.9/site-packages (from mixbox>=1.0.4->stix<1.2.1.0,>=1.1.1.9->stix2-elevator->mitreattack-python) (1.0.3)\n",
      "Requirement already satisfied: appdirs in /Users/Ben/opt/anaconda3/lib/python3.9/site-packages (from stix2-validator>=3.0.0->stix2-elevator->mitreattack-python) (1.4.4)\n",
      "Requirement already satisfied: colorama in /Users/Ben/opt/anaconda3/lib/python3.9/site-packages (from stix2-validator>=3.0.0->stix2-elevator->mitreattack-python) (0.4.4)\n",
      "Requirement already satisfied: requests-cache in /Users/Ben/opt/anaconda3/lib/python3.9/site-packages (from stix2-validator>=3.0.0->stix2-elevator->mitreattack-python) (1.0.1)\n",
      "Requirement already satisfied: cpe in /Users/Ben/opt/anaconda3/lib/python3.9/site-packages (from stix2-validator>=3.0.0->stix2-elevator->mitreattack-python) (1.2.1)\n",
      "Requirement already satisfied: jsonschema[format-nongpl]>=4.6.0 in /Users/Ben/opt/anaconda3/lib/python3.9/site-packages (from stix2-validator>=3.0.0->stix2-elevator->mitreattack-python) (4.17.3)\n",
      "Requirement already satisfied: attrs<22.0,>21.2 in /Users/Ben/opt/anaconda3/lib/python3.9/site-packages (from stix2-validator>=3.0.0->stix2-elevator->mitreattack-python) (21.4.0)\n",
      "Requirement already satisfied: pyrsistent!=0.17.0,!=0.17.1,!=0.17.2,>=0.14.0 in /Users/Ben/opt/anaconda3/lib/python3.9/site-packages (from jsonschema[format-nongpl]>=4.6.0->stix2-validator>=3.0.0->stix2-elevator->mitreattack-python) (0.18.0)\n",
      "Requirement already satisfied: jsonpointer>1.13 in /Users/Ben/opt/anaconda3/lib/python3.9/site-packages (from jsonschema[format-nongpl]>=4.6.0->stix2-validator>=3.0.0->stix2-elevator->mitreattack-python) (2.4)\n",
      "Requirement already satisfied: fqdn in /Users/Ben/opt/anaconda3/lib/python3.9/site-packages (from jsonschema[format-nongpl]>=4.6.0->stix2-validator>=3.0.0->stix2-elevator->mitreattack-python) (1.5.1)\n",
      "Requirement already satisfied: webcolors>=1.11 in /Users/Ben/opt/anaconda3/lib/python3.9/site-packages (from jsonschema[format-nongpl]>=4.6.0->stix2-validator>=3.0.0->stix2-elevator->mitreattack-python) (1.13)\n",
      "Requirement already satisfied: isoduration in /Users/Ben/opt/anaconda3/lib/python3.9/site-packages (from jsonschema[format-nongpl]>=4.6.0->stix2-validator>=3.0.0->stix2-elevator->mitreattack-python) (20.11.0)\n",
      "Requirement already satisfied: rfc3986-validator>0.1.0 in /Users/Ben/opt/anaconda3/lib/python3.9/site-packages (from jsonschema[format-nongpl]>=4.6.0->stix2-validator>=3.0.0->stix2-elevator->mitreattack-python) (0.1.1)\n",
      "Requirement already satisfied: uri-template in /Users/Ben/opt/anaconda3/lib/python3.9/site-packages (from jsonschema[format-nongpl]>=4.6.0->stix2-validator>=3.0.0->stix2-elevator->mitreattack-python) (1.3.0)\n",
      "Requirement already satisfied: rfc3339-validator in /Users/Ben/opt/anaconda3/lib/python3.9/site-packages (from jsonschema[format-nongpl]>=4.6.0->stix2-validator>=3.0.0->stix2-elevator->mitreattack-python) (0.1.4)\n",
      "Requirement already satisfied: arrow>=0.15.0 in /Users/Ben/opt/anaconda3/lib/python3.9/site-packages (from isoduration->jsonschema[format-nongpl]>=4.6.0->stix2-validator>=3.0.0->stix2-elevator->mitreattack-python) (1.2.3)\n",
      "Requirement already satisfied: url-normalize>=1.4 in /Users/Ben/opt/anaconda3/lib/python3.9/site-packages (from requests-cache->stix2-validator>=3.0.0->stix2-elevator->mitreattack-python) (1.4.3)\n",
      "Requirement already satisfied: cattrs>=22.2 in /Users/Ben/opt/anaconda3/lib/python3.9/site-packages (from requests-cache->stix2-validator>=3.0.0->stix2-elevator->mitreattack-python) (23.1.2)\n",
      "Requirement already satisfied: exceptiongroup in /Users/Ben/opt/anaconda3/lib/python3.9/site-packages (from cattrs>=22.2->requests-cache->stix2-validator>=3.0.0->stix2-elevator->mitreattack-python) (1.1.1)\n",
      "Requirement already satisfied: typing_extensions>=4.1.0 in /Users/Ben/opt/anaconda3/lib/python3.9/site-packages (from cattrs>=22.2->requests-cache->stix2-validator>=3.0.0->stix2-elevator->mitreattack-python) (4.6.3)\n",
      "Requirement already satisfied: click<9.0.0,>=7.1.1 in /Users/Ben/opt/anaconda3/lib/python3.9/site-packages (from typer->mitreattack-python) (8.0.3)\n",
      "Requirement already satisfied: ipywidgets in /Users/Ben/opt/anaconda3/lib/python3.9/site-packages (7.6.5)\n",
      "Requirement already satisfied: ipython>=4.0.0 in /Users/Ben/opt/anaconda3/lib/python3.9/site-packages (from ipywidgets) (7.29.0)\n",
      "Requirement already satisfied: widgetsnbextension~=3.5.0 in /Users/Ben/opt/anaconda3/lib/python3.9/site-packages (from ipywidgets) (3.5.1)\n",
      "Requirement already satisfied: ipykernel>=4.5.1 in /Users/Ben/opt/anaconda3/lib/python3.9/site-packages (from ipywidgets) (6.4.1)\n",
      "Requirement already satisfied: jupyterlab-widgets>=1.0.0 in /Users/Ben/opt/anaconda3/lib/python3.9/site-packages (from ipywidgets) (1.0.0)\n",
      "Requirement already satisfied: traitlets>=4.3.1 in /Users/Ben/opt/anaconda3/lib/python3.9/site-packages (from ipywidgets) (5.1.0)\n",
      "Requirement already satisfied: ipython-genutils~=0.2.0 in /Users/Ben/opt/anaconda3/lib/python3.9/site-packages (from ipywidgets) (0.2.0)\n",
      "Requirement already satisfied: nbformat>=4.2.0 in /Users/Ben/opt/anaconda3/lib/python3.9/site-packages (from ipywidgets) (5.1.3)\n",
      "Requirement already satisfied: debugpy<2.0,>=1.0.0 in /Users/Ben/opt/anaconda3/lib/python3.9/site-packages (from ipykernel>=4.5.1->ipywidgets) (1.4.1)\n",
      "Requirement already satisfied: appnope in /Users/Ben/opt/anaconda3/lib/python3.9/site-packages (from ipykernel>=4.5.1->ipywidgets) (0.1.2)\n",
      "Requirement already satisfied: jupyter-client<8.0 in /Users/Ben/opt/anaconda3/lib/python3.9/site-packages (from ipykernel>=4.5.1->ipywidgets) (6.1.12)\n",
      "Requirement already satisfied: matplotlib-inline<0.2.0,>=0.1.0 in /Users/Ben/opt/anaconda3/lib/python3.9/site-packages (from ipykernel>=4.5.1->ipywidgets) (0.1.2)\n",
      "Requirement already satisfied: tornado<7.0,>=4.2 in /Users/Ben/opt/anaconda3/lib/python3.9/site-packages (from ipykernel>=4.5.1->ipywidgets) (6.1)\n",
      "Requirement already satisfied: pickleshare in /Users/Ben/opt/anaconda3/lib/python3.9/site-packages (from ipython>=4.0.0->ipywidgets) (0.7.5)\n",
      "Requirement already satisfied: jedi>=0.16 in /Users/Ben/opt/anaconda3/lib/python3.9/site-packages (from ipython>=4.0.0->ipywidgets) (0.18.0)\n",
      "Requirement already satisfied: pexpect>4.3 in /Users/Ben/opt/anaconda3/lib/python3.9/site-packages (from ipython>=4.0.0->ipywidgets) (4.8.0)\n",
      "Requirement already satisfied: pygments in /Users/Ben/opt/anaconda3/lib/python3.9/site-packages (from ipython>=4.0.0->ipywidgets) (2.15.1)\n",
      "Requirement already satisfied: setuptools>=18.5 in /Users/Ben/opt/anaconda3/lib/python3.9/site-packages (from ipython>=4.0.0->ipywidgets) (58.0.4)\n",
      "Requirement already satisfied: prompt-toolkit!=3.0.0,!=3.0.1,<3.1.0,>=2.0.0 in /Users/Ben/opt/anaconda3/lib/python3.9/site-packages (from ipython>=4.0.0->ipywidgets) (3.0.20)\n",
      "Requirement already satisfied: backcall in /Users/Ben/opt/anaconda3/lib/python3.9/site-packages (from ipython>=4.0.0->ipywidgets) (0.2.0)\n",
      "Requirement already satisfied: decorator in /Users/Ben/opt/anaconda3/lib/python3.9/site-packages (from ipython>=4.0.0->ipywidgets) (5.1.0)\n",
      "Requirement already satisfied: parso<0.9.0,>=0.8.0 in /Users/Ben/opt/anaconda3/lib/python3.9/site-packages (from jedi>=0.16->ipython>=4.0.0->ipywidgets) (0.8.2)\n",
      "Requirement already satisfied: jupyter-core>=4.6.0 in /Users/Ben/opt/anaconda3/lib/python3.9/site-packages (from jupyter-client<8.0->ipykernel>=4.5.1->ipywidgets) (4.8.1)\n",
      "Requirement already satisfied: pyzmq>=13 in /Users/Ben/opt/anaconda3/lib/python3.9/site-packages (from jupyter-client<8.0->ipykernel>=4.5.1->ipywidgets) (22.2.1)\n",
      "Requirement already satisfied: python-dateutil>=2.1 in /Users/Ben/opt/anaconda3/lib/python3.9/site-packages (from jupyter-client<8.0->ipykernel>=4.5.1->ipywidgets) (2.8.2)\n",
      "Requirement already satisfied: jsonschema!=2.5.0,>=2.4 in /Users/Ben/opt/anaconda3/lib/python3.9/site-packages (from nbformat>=4.2.0->ipywidgets) (4.17.3)\n",
      "Requirement already satisfied: attrs>=17.4.0 in /Users/Ben/opt/anaconda3/lib/python3.9/site-packages (from jsonschema!=2.5.0,>=2.4->nbformat>=4.2.0->ipywidgets) (21.4.0)\n",
      "Requirement already satisfied: pyrsistent!=0.17.0,!=0.17.1,!=0.17.2,>=0.14.0 in /Users/Ben/opt/anaconda3/lib/python3.9/site-packages (from jsonschema!=2.5.0,>=2.4->nbformat>=4.2.0->ipywidgets) (0.18.0)\n",
      "Requirement already satisfied: ptyprocess>=0.5 in /Users/Ben/opt/anaconda3/lib/python3.9/site-packages (from pexpect>4.3->ipython>=4.0.0->ipywidgets) (0.7.0)\n",
      "Requirement already satisfied: wcwidth in /Users/Ben/opt/anaconda3/lib/python3.9/site-packages (from prompt-toolkit!=3.0.0,!=3.0.1,<3.1.0,>=2.0.0->ipython>=4.0.0->ipywidgets) (0.2.5)\n",
      "Requirement already satisfied: six>=1.5 in /Users/Ben/opt/anaconda3/lib/python3.9/site-packages (from python-dateutil>=2.1->jupyter-client<8.0->ipykernel>=4.5.1->ipywidgets) (1.16.0)\n",
      "Requirement already satisfied: notebook>=4.4.1 in /Users/Ben/opt/anaconda3/lib/python3.9/site-packages (from widgetsnbextension~=3.5.0->ipywidgets) (6.4.5)\n",
      "Requirement already satisfied: Send2Trash>=1.5.0 in /Users/Ben/opt/anaconda3/lib/python3.9/site-packages (from notebook>=4.4.1->widgetsnbextension~=3.5.0->ipywidgets) (1.8.0)\n",
      "Requirement already satisfied: terminado>=0.8.3 in /Users/Ben/opt/anaconda3/lib/python3.9/site-packages (from notebook>=4.4.1->widgetsnbextension~=3.5.0->ipywidgets) (0.9.4)\n",
      "Requirement already satisfied: nbconvert in /Users/Ben/opt/anaconda3/lib/python3.9/site-packages (from notebook>=4.4.1->widgetsnbextension~=3.5.0->ipywidgets) (6.1.0)\n",
      "Requirement already satisfied: prometheus-client in /Users/Ben/opt/anaconda3/lib/python3.9/site-packages (from notebook>=4.4.1->widgetsnbextension~=3.5.0->ipywidgets) (0.11.0)\n",
      "Requirement already satisfied: argon2-cffi in /Users/Ben/opt/anaconda3/lib/python3.9/site-packages (from notebook>=4.4.1->widgetsnbextension~=3.5.0->ipywidgets) (20.1.0)\n",
      "Requirement already satisfied: jinja2 in /Users/Ben/opt/anaconda3/lib/python3.9/site-packages (from notebook>=4.4.1->widgetsnbextension~=3.5.0->ipywidgets) (2.11.3)\n",
      "Requirement already satisfied: cffi>=1.0.0 in /Users/Ben/opt/anaconda3/lib/python3.9/site-packages (from argon2-cffi->notebook>=4.4.1->widgetsnbextension~=3.5.0->ipywidgets) (1.14.6)\n",
      "Requirement already satisfied: pycparser in /Users/Ben/opt/anaconda3/lib/python3.9/site-packages (from cffi>=1.0.0->argon2-cffi->notebook>=4.4.1->widgetsnbextension~=3.5.0->ipywidgets) (2.20)\n",
      "Requirement already satisfied: MarkupSafe>=0.23 in /Users/Ben/opt/anaconda3/lib/python3.9/site-packages (from jinja2->notebook>=4.4.1->widgetsnbextension~=3.5.0->ipywidgets) (1.1.1)\n",
      "Requirement already satisfied: nbclient<0.6.0,>=0.5.0 in /Users/Ben/opt/anaconda3/lib/python3.9/site-packages (from nbconvert->notebook>=4.4.1->widgetsnbextension~=3.5.0->ipywidgets) (0.5.3)\n",
      "Requirement already satisfied: entrypoints>=0.2.2 in /Users/Ben/opt/anaconda3/lib/python3.9/site-packages (from nbconvert->notebook>=4.4.1->widgetsnbextension~=3.5.0->ipywidgets) (0.3)\n",
      "Requirement already satisfied: mistune<2,>=0.8.1 in /Users/Ben/opt/anaconda3/lib/python3.9/site-packages (from nbconvert->notebook>=4.4.1->widgetsnbextension~=3.5.0->ipywidgets) (0.8.4)\n",
      "Requirement already satisfied: defusedxml in /Users/Ben/opt/anaconda3/lib/python3.9/site-packages (from nbconvert->notebook>=4.4.1->widgetsnbextension~=3.5.0->ipywidgets) (0.7.1)\n",
      "Requirement already satisfied: pandocfilters>=1.4.1 in /Users/Ben/opt/anaconda3/lib/python3.9/site-packages (from nbconvert->notebook>=4.4.1->widgetsnbextension~=3.5.0->ipywidgets) (1.4.3)\n",
      "Requirement already satisfied: testpath in /Users/Ben/opt/anaconda3/lib/python3.9/site-packages (from nbconvert->notebook>=4.4.1->widgetsnbextension~=3.5.0->ipywidgets) (0.5.0)\n",
      "Requirement already satisfied: jupyterlab-pygments in /Users/Ben/opt/anaconda3/lib/python3.9/site-packages (from nbconvert->notebook>=4.4.1->widgetsnbextension~=3.5.0->ipywidgets) (0.1.2)\n",
      "Requirement already satisfied: bleach in /Users/Ben/opt/anaconda3/lib/python3.9/site-packages (from nbconvert->notebook>=4.4.1->widgetsnbextension~=3.5.0->ipywidgets) (4.0.0)\n",
      "Requirement already satisfied: async-generator in /Users/Ben/opt/anaconda3/lib/python3.9/site-packages (from nbclient<0.6.0,>=0.5.0->nbconvert->notebook>=4.4.1->widgetsnbextension~=3.5.0->ipywidgets) (1.10)\n",
      "Requirement already satisfied: nest-asyncio in /Users/Ben/opt/anaconda3/lib/python3.9/site-packages (from nbclient<0.6.0,>=0.5.0->nbconvert->notebook>=4.4.1->widgetsnbextension~=3.5.0->ipywidgets) (1.5.1)\n",
      "Requirement already satisfied: packaging in /Users/Ben/opt/anaconda3/lib/python3.9/site-packages (from bleach->nbconvert->notebook>=4.4.1->widgetsnbextension~=3.5.0->ipywidgets) (21.0)\n",
      "Requirement already satisfied: webencodings in /Users/Ben/opt/anaconda3/lib/python3.9/site-packages (from bleach->nbconvert->notebook>=4.4.1->widgetsnbextension~=3.5.0->ipywidgets) (0.5.1)\n",
      "Requirement already satisfied: pyparsing>=2.0.2 in /Users/Ben/opt/anaconda3/lib/python3.9/site-packages (from packaging->bleach->nbconvert->notebook>=4.4.1->widgetsnbextension~=3.5.0->ipywidgets) (3.0.4)\n"
     ]
    }
   ],
   "source": [
    "!pip install mitreattack-python\n",
    "!pip install ipywidgets"
   ]
  },
  {
   "attachments": {},
   "cell_type": "markdown",
   "id": "db52abcc-3406-4823-b438-9191e6aaccb4",
   "metadata": {},
   "source": [
    "#### importing modules"
   ]
  },
  {
   "cell_type": "code",
   "execution_count": 2,
   "id": "e053f9d2-dc0b-43d7-b8af-d66b572b1621",
   "metadata": {
    "editable": true,
    "slideshow": {
     "slide_type": ""
    },
    "tags": []
   },
   "outputs": [
    {
     "name": "stdout",
     "output_type": "stream",
     "text": [
      "NumExpr defaulting to 8 threads.\n"
     ]
    }
   ],
   "source": [
    "import mitreattack.attackToExcel.attackToExcel as attackToExcel\n",
    "import mitreattack.attackToExcel.stixToDf as stixToDf\n",
    "from IPython.display import display, clear_output\n",
    "from datetime import datetime\n",
    "from ipywidgets import widgets\n",
    "import json\n",
    "import os\n",
    "import pandas\n",
    "import sys\n",
    "import time"
   ]
  },
  {
   "attachments": {},
   "cell_type": "markdown",
   "id": "72f8e7b1-0a0d-4d8d-99e3-d621d60cecb0",
   "metadata": {},
   "source": [
    "#### collecting ATT&CK framework"
   ]
  },
  {
   "cell_type": "code",
   "execution_count": 3,
   "id": "96378b2d-3670-4802-9717-18308293bea8",
   "metadata": {
    "jupyter": {
     "source_hidden": true
    }
   },
   "outputs": [
    {
     "name": "stderr",
     "output_type": "stream",
     "text": [
      "\u001b[32m2023-06-29 20:59:33.729\u001b[0m | \u001b[1mINFO    \u001b[0m | \u001b[36mmitreattack.attackToExcel.attackToExcel\u001b[0m:\u001b[36mget_stix_data\u001b[0m:\u001b[36m69\u001b[0m - \u001b[1mDownloading ATT&CK data from github.com/mitre/cti\u001b[0m\n",
      "parsing techniques: 100%|██████████| 607/607 [00:00<00:00, 1053.33it/s]\n",
      "parsing relationships for type=technique: 100%|██████████| 16530/16530 [00:00<00:00, 33258.43it/s]\n"
     ]
    }
   ],
   "source": [
    "attackdata = attackToExcel.get_stix_data(\"enterprise-attack\")\n",
    "techniques_data = stixToDf.techniquesToDf(attackdata, \"enterprise-attack\")\n",
    "procedures_df = techniques_data[\"procedure examples\"]\n",
    "techniques_df = techniques_data[\"techniques\"]"
   ]
  },
  {
   "attachments": {},
   "cell_type": "markdown",
   "id": "d32e1a17-a029-425c-940a-f26f41c1ac12",
   "metadata": {},
   "source": [
    "#### building widgets and obtaining selections"
   ]
  },
  {
   "cell_type": "code",
   "execution_count": 4,
   "id": "2b27c29a-048d-4714-a9e9-00fdd3aaf6a7",
   "metadata": {
    "scrolled": true
   },
   "outputs": [
    {
     "data": {
      "application/vnd.jupyter.widget-view+json": {
       "model_id": "f80156c26e304d39b098ceba2b33b185",
       "version_major": 2,
       "version_minor": 0
      },
      "text/plain": [
       "HBox(children=(VBox(children=(Label(value='Platforms'), Label(value=''), Label(value='Threat Actors/Software')…"
      ]
     },
     "metadata": {},
     "output_type": "display_data"
    }
   ],
   "source": [
    "data = {}\n",
    "\n",
    "output = widgets.Output()\n",
    "spacer = widgets.Label(\"\")\n",
    "\n",
    "platform_label = widgets.Label(\"Platforms\")\n",
    "platform_input = widgets.Textarea()\n",
    "\n",
    "procedure_label = widgets.Label(\"Threat Actors/Software\")\n",
    "procedure_input = widgets.Textarea()\n",
    "\n",
    "keyword_label = widgets.Label(\"Keywords\")\n",
    "keyword_input = widgets.Textarea()\n",
    "\n",
    "labels = widgets.VBox([platform_label, spacer, procedure_label, spacer, keyword_label])\n",
    "inputs = widgets.VBox([platform_input, spacer, procedure_input, spacer, keyword_input])\n",
    "\n",
    "combined_box = widgets.HBox([labels, inputs])\n",
    "\n",
    "display(combined_box)"
   ]
  },
  {
   "attachments": {},
   "cell_type": "markdown",
   "id": "c0472bfa",
   "metadata": {},
   "source": [
    "#### building dictionaries of correlated techniques and procedures"
   ]
  },
  {
   "cell_type": "code",
   "execution_count": 13,
   "id": "41279235-648c-4c4c-8375-1cadcace1e05",
   "metadata": {},
   "outputs": [],
   "source": [
    "inputted_platforms = platform_input.value\n",
    "inputted_procedures = procedure_input.value\n",
    "inputted_keywords = keyword_input.value\n",
    "\n",
    "yielded_techniques = {}\n",
    "yielded_procedures = {}\n",
    "\n",
    "if inputted_procedures != \".\":\n",
    "    inputted_procedures = list(str(procedure_input.value).split(\",\"))\n",
    "    for each_procedure in inputted_procedures:\n",
    "        procedure = each_procedure.strip()\n",
    "        for index, row in procedures_df.iterrows():\n",
    "            if row[\"source name\"] == procedure:\n",
    "                if inputted_keywords != \".\":\n",
    "                    inputted_keywords = list(str(keyword_input.value).split(\",\"))\n",
    "                    for each_keyword in inputted_keywords:\n",
    "                        keyword = each_keyword.strip()\n",
    "                        if keyword in row[\"mapping description\"]:\n",
    "                            yielded_procedures[\"procedure_id\"] = row[\"source ID\"]\n",
    "                            yielded_procedures[\"procedure_name\"] = row[\"source name\"]\n",
    "                            yielded_procedures[\"procedure_description\"] = row[\"mapping description\"]\n",
    "                            yielded_procedures[\"technique_id\"] = row[\"target ID\"]\n",
    "                            yielded_procedures[\"technique_name\"] = row[\"target name\"]\n",
    "                        else:\n",
    "                            pass\n",
    "                else:\n",
    "                    yielded_procedures[\"procedure_id\"] = row[\"source ID\"]\n",
    "                    yielded_procedures[\"procedure_name\"] = row[\"source name\"]\n",
    "                    yielded_procedures[\"procedure_description\"] = row[\"mapping description\"]\n",
    "                    yielded_procedures[\"technique_id\"] = row[\"target ID\"]\n",
    "                    yielded_procedures[\"technique_name\"] = row[\"target name\"]\n",
    "            else:\n",
    "                pass\n",
    "else:\n",
    "    for index, row in procedures_df.iterrows():\n",
    "        if inputted_keywords != \".\":\n",
    "            inputted_keywords = list(str(keyword_input.value).split(\",\"))\n",
    "            for each_keyword in inputted_keywords:\n",
    "                keyword = each_keyword.strip()\n",
    "                if keyword in row[\"mapping description\"]:\n",
    "                    yielded_procedures[\"procedure_id\"] = row[\"source ID\"]\n",
    "                    yielded_procedures[\"procedure_name\"] = row[\"source name\"]\n",
    "                    yielded_procedures[\"procedure_description\"] = row[\"mapping description\"]\n",
    "                    yielded_procedures[\"technique_id\"] = row[\"target ID\"]\n",
    "                    yielded_procedures[\"technique_name\"] = row[\"target name\"]\n",
    "                else:\n",
    "                    pass\n",
    "        else:\n",
    "            yielded_procedures[\"procedure_id\"] = row[\"source ID\"]\n",
    "            yielded_procedures[\"procedure_name\"] = row[\"source name\"]\n",
    "            yielded_procedures[\"procedure_description\"] = row[\"mapping description\"]\n",
    "            yielded_procedures[\"technique_id\"] = row[\"target ID\"]\n",
    "            yielded_procedures[\"technique_name\"] = row[\"target name\"]"
   ]
  },
  {
   "cell_type": "code",
   "execution_count": 23,
   "id": "3967989e",
   "metadata": {},
   "outputs": [],
   "source": [
    "for procedure_key, procedure_value in yielded_procedures.items():\n",
    "    for index, row in techniques_df.iterrows():\n",
    "        if yielded_procedures[\"technique_id\"] == row[\"ID\"]:\n",
    "            if inputted_platforms != \".\":\n",
    "                inputted_platforms = list(str(platform_input.value).split(\",\"))\n",
    "                for each_platform in inputted_platforms:\n",
    "                    if each_platform in row[\"platforms\"]:\n",
    "                        yielded_techniques[\"technique_id\"] = row[\"ID\"]\n",
    "                        yielded_techniques[\"technique_name\"] = row[\"name\"]\n",
    "                        yielded_techniques[\"tactics\"] = row[\"tactics\"]\n",
    "                        yielded_techniques[\"data_sources\"] = row[\"data sources\"]\n",
    "                        yielded_techniques[\"detection\"] = row[\"detection\"]\n",
    "                        yielded_techniques[\"procedure_id\"] = yielded_procedures[\"procedure_id\"]\n",
    "                        yielded_techniques[\"procedure_name\"] = yielded_procedures[\"procedure_name\"]\n",
    "                        yielded_techniques[\"procedure_description\"] = yielded_procedures[\"procedure_description\"]\n",
    "            else:\n",
    "                yielded_techniques[\"technique_id\"] = row[\"ID\"]\n",
    "                yielded_techniques[\"technique_name\"] = row[\"name\"]\n",
    "                yielded_techniques[\"tactics\"] = row[\"tactics\"]\n",
    "                yielded_techniques[\"data_sources\"] = row[\"data sources\"]\n",
    "                yielded_techniques[\"detection\"] = row[\"detection\"]\n",
    "                yielded_techniques[\"procedure_id\"] = yielded_procedures[\"procedure_id\"]\n",
    "                yielded_techniques[\"procedure_name\"] = yielded_procedures[\"procedure_name\"]\n",
    "                yielded_techniques[\"procedure_description\"] = yielded_procedures[\"procedure_description\"]\n",
    "\n"
   ]
  },
  {
   "attachments": {},
   "cell_type": "markdown",
   "id": "d0004714",
   "metadata": {},
   "source": [
    "#### invoking extraction functions from MITRESaw.py"
   ]
  },
  {
   "cell_type": "code",
   "execution_count": null,
   "id": "eeb153fb",
   "metadata": {},
   "outputs": [],
   "source": []
  }
 ],
 "metadata": {
  "kernelspec": {
   "display_name": "Python 3 (ipykernel)",
   "language": "python",
   "name": "python3"
  },
  "language_info": {
   "codemirror_mode": {
    "name": "ipython",
    "version": 3
   },
   "file_extension": ".py",
   "mimetype": "text/x-python",
   "name": "python",
   "nbconvert_exporter": "python",
   "pygments_lexer": "ipython3",
   "version": "3.9.7"
  }
 },
 "nbformat": 4,
 "nbformat_minor": 5
}
